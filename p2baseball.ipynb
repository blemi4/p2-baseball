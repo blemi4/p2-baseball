{
 "cells": [
  {
   "cell_type": "markdown",
   "metadata": {},
   "source": [
    "Before setting out to explore this data I will state a few questions that I would like to answer:\n",
    "    1. What variables (Home Runs, Walks, Strike Outs, Errors, etc.) have the strongest correlation with success (winning percentage)?\n",
    "    2. What is the cost (player salaries) of improving on these important factors?"
   ]
  },
  {
   "cell_type": "markdown",
   "metadata": {},
   "source": [
    "Import relevant data"
   ]
  },
  {
   "cell_type": "code",
   "execution_count": 873,
   "metadata": {
    "collapsed": true
   },
   "outputs": [],
   "source": [
    "import pandas as pd\n",
    "import numpy as np\n",
    "\n",
    "batting_all_df = pd.read_csv('Batting.csv')\n",
    "teams_all_df = pd.read_csv('Teams.csv')\n",
    "pitching_all_df = pd.read_csv('Pitching.csv')\n",
    "fielding_all_df = pd.read_csv('Fielding.csv')\n",
    "salaries_all_df = pd.read_csv('Salaries.csv')\n"
   ]
  },
  {
   "cell_type": "markdown",
   "metadata": {},
   "source": [
    "Get just the data from 1985 on because there is no salary data before then"
   ]
  },
  {
   "cell_type": "code",
   "execution_count": 874,
   "metadata": {
    "collapsed": false
   },
   "outputs": [],
   "source": [
    "\n",
    "teams_df = teams_all_df[teams_all_df['yearID']>=1985]\n"
   ]
  },
  {
   "cell_type": "markdown",
   "metadata": {},
   "source": [
    "Define procedure to measure correlation between 2 variables"
   ]
  },
  {
   "cell_type": "code",
   "execution_count": 875,
   "metadata": {
    "collapsed": true
   },
   "outputs": [],
   "source": [
    "def correlation(x, y):\n",
    "    x_avg = x.mean()\n",
    "    y_avg = y.mean()\n",
    "    x_stdz = (x - x_avg)/x.std(ddof=0)\n",
    "    y_stdz = (y - y_avg)/y.std(ddof=0)\n",
    "    return (x_stdz * y_stdz).mean()"
   ]
  },
  {
   "cell_type": "markdown",
   "metadata": {},
   "source": [
    "Define procedure to standardize a variable"
   ]
  },
  {
   "cell_type": "code",
   "execution_count": 876,
   "metadata": {
    "collapsed": true
   },
   "outputs": [],
   "source": [
    "def standardize(df):\n",
    "    return (df - df.mean())/df.std(ddof=0)"
   ]
  },
  {
   "cell_type": "markdown",
   "metadata": {},
   "source": [
    "Add column Winning Percentage to teams_df"
   ]
  },
  {
   "cell_type": "code",
   "execution_count": 877,
   "metadata": {
    "collapsed": false
   },
   "outputs": [],
   "source": [
    "teams_wp = teams_df['W']/(teams_df['W']+teams_df['L'])"
   ]
  },
  {
   "cell_type": "markdown",
   "metadata": {},
   "source": [
    "Calculate correlation between winning percentage and various offensive metrics on the team level"
   ]
  },
  {
   "cell_type": "code",
   "execution_count": 878,
   "metadata": {
    "collapsed": false
   },
   "outputs": [],
   "source": [
    "r_t = teams_df['R'] #runs; _t notes that this is a team calculation\n",
    "hr_t = teams_df['HR'] #homeruns\n",
    "so_t = teams_df['SO'] #strike outs\n",
    "bb_t = teams_df['BB'] #walks\n",
    "h_t= teams_df['H'] #hits\n",
    "sb_t = teams_df['SB'] #stolen bases\n",
    "doubles_t = teams_df['2B'] \n",
    "triples_t = teams_df['3B']\n",
    "singles_t = h_t - hr_t - doubles_t - triples_t\n",
    "ab_t = teams_df['AB'] # at bats\n",
    "hbp_t = teams_df['HBP'] #hit by pitch\n",
    "ba_t = h_t/ab_t #batting average\n",
    "sf_t = teams_df['SF'] #sacrifice fly\n",
    "obp_t = (h_t + bb_t + hbp_t)/(ab_t + bb_t + hbp_t + sf_t) #on base percentage\n",
    "sp_t = (singles_t+(doubles_t*2)+(triples_t*3)+(hr_t*4))/ab_t #slugging percentage\n",
    "ops_t = obp_t+sp_t #on base percentage plus slugging percentage\n",
    "\n"
   ]
  },
  {
   "cell_type": "code",
   "execution_count": 879,
   "metadata": {
    "collapsed": false
   },
   "outputs": [
    {
     "name": "stdout",
     "output_type": "stream",
     "text": [
      "Team Winning Percentage correlation with:\n",
      "runs 0.465868267873\n",
      "homeruns 0.315574848406\n",
      "strikeouts -0.0961045575452\n",
      "walks 0.374281595441\n",
      "stolen bases 0.112105638484\n",
      "doubles 0.195201913417\n",
      "triples -0.00652818674655\n",
      "batting average 0.375183429585\n",
      "on base percentage 0.497730969262\n",
      "slugging percentage 0.403809906002\n",
      "OPS 0.500272988656\n"
     ]
    }
   ],
   "source": [
    "print 'Team Winning Percentage correlation with:'\n",
    "print 'runs', correlation(team_wp,r_t)\n",
    "print 'homeruns', correlation(team_wp,hr_t)\n",
    "print 'strikeouts', correlation(team_wp,so_t)\n",
    "print 'walks', correlation(team_wp,bb_t)\n",
    "print 'stolen bases', correlation(team_wp,sb_t)\n",
    "print 'doubles', correlation(team_wp,doubles_t)\n",
    "print 'triples', correlation(team_wp,triples_t)\n",
    "print 'batting average', correlation(team_wp,ba_t)\n",
    "print 'on base percentage', correlation(team_wp,obp_t)\n",
    "print 'slugging percentage', correlation(team_wp,sp_t)\n",
    "print 'OPS', correlation(team_wp,ops_t)\n"
   ]
  },
  {
   "cell_type": "markdown",
   "metadata": {},
   "source": [
    "Calculate correlation between winning percentage and various defensive/pitching metrics on the team level"
   ]
  },
  {
   "cell_type": "code",
   "execution_count": 880,
   "metadata": {
    "collapsed": true
   },
   "outputs": [],
   "source": [
    "ra_t = teams_df['RA'] #runs against\n",
    "era_t = teams_df['ERA'] #earned run average\n",
    "e_t = teams_df['E'] #errors\n",
    "fp_t = teams_df['FP'] #fielding percentage\n",
    "ha_t = teams_df['HA'] #hits against\n",
    "soa_t = teams_df['SOA'] #strike outs against\n",
    "bba_t = teams_df['BBA'] #walks against\n",
    "cg_t = teams_df['CG'] #complete games\n",
    "\n",
    "\n"
   ]
  },
  {
   "cell_type": "code",
   "execution_count": 881,
   "metadata": {
    "collapsed": false
   },
   "outputs": [
    {
     "name": "stdout",
     "output_type": "stream",
     "text": [
      "Team Winning Percentage correlation with:\n",
      "runs against -0.545882069178\n",
      "ERA -0.557169875387\n",
      "errors -0.283302790633\n",
      "fielding percentage 0.208031672218\n",
      "hits against -0.376872149077\n",
      "strikeouts against 0.246233958276\n",
      "walks against -0.369954199535\n",
      "complete games 0.0973014249249\n"
     ]
    }
   ],
   "source": [
    "print 'Team Winning Percentage correlation with:'\n",
    "print 'runs against', correlation(team_wp,ra_t)\n",
    "print 'ERA', correlation(team_wp,era_t)\n",
    "print 'errors', correlation(team_wp,e_t)\n",
    "print 'fielding percentage', correlation(team_wp,fp_t)\n",
    "print 'hits against', correlation(team_wp,ha_t)\n",
    "print 'strikeouts against', correlation(team_wp,soa_t)\n",
    "print 'walks against', correlation(team_wp,bba_t)\n",
    "print 'complete games', correlation(team_wp,cg_t)\n"
   ]
  },
  {
   "cell_type": "markdown",
   "metadata": {},
   "source": [
    "OPS, on base percentage, runs, runs against, and era have the strongest correlation to winning percentage for the variables tested.  This makes intuitive sense because a team that scores more runs than they give up wins.  "
   ]
  },
  {
   "cell_type": "markdown",
   "metadata": {},
   "source": [
    "Let's take a deeper dive into offense, particularly what may be an indicator for runs.  I want to see which variables have the strongest correlation with runs.  Then I want to look at salary data to see if the same variables that are correlated with runs are correlated with salaries. "
   ]
  },
  {
   "cell_type": "code",
   "execution_count": 882,
   "metadata": {
    "collapsed": false
   },
   "outputs": [
    {
     "name": "stdout",
     "output_type": "stream",
     "text": [
      "Runs scored correlation with:\n",
      "homeruns 0.735708673515\n",
      "doubles 0.646486468741\n",
      "triples 0.0579004049868\n",
      "stolen bases -0.000672805200834\n",
      "walks 0.632338708796\n",
      "strikeouts 0.0599272154014\n",
      "batting average 0.715060636561\n",
      "on base percentage 0.83858456777\n",
      "slugging percentage 0.807658418221\n",
      "OPS 0.892903495998\n"
     ]
    }
   ],
   "source": [
    "print 'Runs scored correlation with:'\n",
    "print 'homeruns', correlation(r_t,hr_t)\n",
    "print 'doubles', correlation(r_t,doubles_t)\n",
    "print 'triples', correlation(r_t,triples_t)\n",
    "print 'stolen bases', correlation(r_t,sb_t)\n",
    "print 'walks', correlation(r_t,bb_t)\n",
    "print 'strikeouts', correlation(r_t,so_t)\n",
    "print 'batting average', correlation(r_t,ba_t)\n",
    "print 'on base percentage', correlation(r_t,obp_t)\n",
    "print 'slugging percentage', correlation(r_t,sp_t)\n",
    "print 'OPS', correlation(r_t,ops_t)\n",
    "\n",
    "#create panda series for visualization below\n",
    "\n",
    "runs_correlates = pd.Series([correlation(r_t,hr_t),correlation(r_t,doubles_t),correlation(r_t,triples_t),correlation(r_t,sb_t),correlation(r_t,bb_t),correlation(r_t,so_t),correlation(r_t,ba_t),correlation(r_t,obp_t),correlation(r_t,sp_t),correlation(r_t,ops_t)], index = ['hr','2b','3b','sb','bb','so','ba','obp','sp','ops'])"
   ]
  },
  {
   "cell_type": "markdown",
   "metadata": {},
   "source": [
    "OPS, which encapsulates how often a team/player gets on base and how man bases they get per attempt, has the strongest correlation to runs.  It it possible that this doesn't mean OPS is the most important statistic listed above for scoring runs.  It is my opinion that it probably is since the factors it measures are factors you would expect to matter for scoring runs."
   ]
  },
  {
   "cell_type": "markdown",
   "metadata": {},
   "source": [
    "Prepare player data from 1985 through 2015."
   ]
  },
  {
   "cell_type": "code",
   "execution_count": 883,
   "metadata": {
    "collapsed": false
   },
   "outputs": [],
   "source": [
    "#add 1 to all count stats below to adjust for zeros\n",
    "ab_p = batting_all_df['AB'] + 1 #at bats; _p denotes player\n",
    "r_p = batting_all_df['R'] + 1 \n",
    "h_p = batting_all_df['H'] + 1\n",
    "hr_p = batting_all_df['HR'] + 1 #homeruns\n",
    "batting_all_df['HR/AB']=batting_all_df['HR']/batting_all_df['AB']\n",
    "triples_p = batting_all_df['3B'] + 1\n",
    "doubles_p = batting_all_df['2B'] + 1\n",
    "rbi_p = batting_all_df['RBI'] + 1\n",
    "sb_p = batting_all_df['SB'] + 1\n",
    "bb_p = batting_all_df['BB'] + 1\n",
    "so_p = batting_all_df['SO'] + 1\n",
    "ibb_p = batting_all_df['IBB'] + 1\n",
    "hbp_p = batting_all_df['HBP'] + 1\n",
    "sf_p = batting_all_df['SF'] + 1\n",
    "singles_p = batting_all_df['H'] - hr_p - triples_p - doubles_p + 1\n",
    "ba_p = h_p/ab_p\n",
    "obp_p = (h_p + bb_p + hbp_p)/(ab_p + bb_p + hbp_p + sf_p) #on base percentage\n",
    "sp_p = (singles_p+(doubles_p*2)+(triples_p*3)+(hr_p*4))/ab_p #slugging percentage\n",
    "batting_all_df['OPS'] = obp_p+sp_p\n",
    "ops_p = batting_all_df['OPS']"
   ]
  },
  {
   "cell_type": "code",
   "execution_count": 884,
   "metadata": {
    "collapsed": true
   },
   "outputs": [],
   "source": [
    "#data from 1985 on because no salary data before 1985\n",
    "batting_df = batting_all_df[batting_all_df['yearID']>=1985]\n",
    "pitching_df = pitching_all_df[pitching_all_df['yearID']>=1985]\n",
    "fielding_df = fielding_all_df[fielding_all_df['yearID']>=1985]\n",
    "salaries_df = salaries_all_df[salaries_all_df['yearID']>=1985]"
   ]
  },
  {
   "cell_type": "markdown",
   "metadata": {},
   "source": [
    "Merge batting and salaries dfs (batting_salaries).  Create bat_sal_everyday to drop players who get less than 200 at bats in the season out of the data.  The goal is to look at everyday players, so this should partially correct for players injured most of the year and players called up for a short time."
   ]
  },
  {
   "cell_type": "code",
   "execution_count": 885,
   "metadata": {
    "collapsed": false
   },
   "outputs": [
    {
     "data": {
      "text/plain": [
       "8952"
      ]
     },
     "execution_count": 885,
     "metadata": {},
     "output_type": "execute_result"
    }
   ],
   "source": [
    "\n",
    "batting_salaries = batting_df.merge(salaries_df,on=['yearID','playerID'],how='inner') \n",
    "bat_sal_everyday = batting_salaries[batting_salaries['AB']>=200] \n",
    "len(bat_sal_everyday)"
   ]
  },
  {
   "cell_type": "code",
   "execution_count": 886,
   "metadata": {
    "collapsed": false
   },
   "outputs": [],
   "source": [
    "salary_p = bat_sal_everyday['salary'] # player salary\n",
    "\n",
    "\n"
   ]
  },
  {
   "cell_type": "markdown",
   "metadata": {},
   "source": [
    "Let's calculate player salaries to the same offensive statistics above, except at the player level.  If teams are being rational we should expect the strongest correlates to runs at the team level to be the highest correlates to player salaries at the player level (all else being equal)."
   ]
  },
  {
   "cell_type": "code",
   "execution_count": 887,
   "metadata": {
    "collapsed": false
   },
   "outputs": [
    {
     "name": "stdout",
     "output_type": "stream",
     "text": [
      "Correlation with player salaries:\n",
      "homeruns 0.0231560358442\n",
      "doubles 0.0156497108952\n",
      "triples -0.0405244637894\n",
      "stolen bases -0.0765736782984\n",
      "walks 0.0253122401575\n",
      "strikouts -0.0273347064977\n",
      "batting average 0.0196879916948\n",
      "on base percentage 0.41179594562\n",
      "slugging percentage 0.0155403824311\n",
      "OPS 0.47574821865\n"
     ]
    }
   ],
   "source": [
    "print 'Correlation with player salaries:'\n",
    "print 'homeruns', correlation(salary_p,hr_p)\n",
    "print 'doubles', correlation(salary_p,doubles_p)\n",
    "print 'triples', correlation(salary_p,triples_p)\n",
    "print 'stolen bases', correlation(salary_p,sb_p)\n",
    "print 'walks', correlation(salary_p,bb_p)\n",
    "print 'strikouts', correlation(salary_p,so_p)\n",
    "print 'batting average', correlation(salary_p,ba_p)\n",
    "print 'on base percentage', correlation(salary_p,obp_p)\n",
    "print 'slugging percentage', correlation(salary_p,sp_p)\n",
    "print 'OPS', correlation(salary_p,ops_p)\n"
   ]
  },
  {
   "cell_type": "markdown",
   "metadata": {},
   "source": [
    "It has occured to me that salaries have likely risen sharply since 1985 levels which may cause problems with my analysis.  Let's investigate:"
   ]
  },
  {
   "cell_type": "code",
   "execution_count": 888,
   "metadata": {
    "collapsed": false
   },
   "outputs": [
    {
     "name": "stdout",
     "output_type": "stream",
     "text": [
      "Populating the interactive namespace from numpy and matplotlib\n"
     ]
    },
    {
     "data": {
      "text/plain": [
       "<Container object of 31 artists>"
      ]
     },
     "execution_count": 888,
     "metadata": {},
     "output_type": "execute_result"
    },
    {
     "data": {
      "image/png": "[encoded data removed]",
      "text/plain": [
       "<matplotlib.figure.Figure at 0x14ec636d0>"
      ]
     },
     "metadata": {},
     "output_type": "display_data"
    }
   ],
   "source": [
    "bat_sal_yr_grp = bat_sal_everyday.groupby('yearID',as_index=False).mean()\n",
    "%pylab inline\n",
    "import matplotlib.pyplot as plt\n",
    "import seaborn as sns\n",
    "\n",
    "plt.bar(bat_sal_yr_grp['yearID'],bat_sal_yr_grp['salary']) \n",
    "#returns bar plot of average salary per year"
   ]
  },
  {
   "cell_type": "markdown",
   "metadata": {},
   "source": [
    "Salaries have risen sharply as I thought.  Let's adjust these salaries back to 1985 levels for comparison purposes."
   ]
  },
  {
   "cell_type": "code",
   "execution_count": 889,
   "metadata": {
    "collapsed": false
   },
   "outputs": [],
   "source": [
    "#adjust salaries to 1985 levels to better compare across time\n",
    "\n",
    "salary = bat_sal_yr_grp['salary'] # player salary\n",
    "bat_sal_yr_grp['CPI'] = salary/salary[0] #calculate cpi for player salaries\n",
    "cpi = bat_sal_yr_grp['CPI']\n",
    "bat_sal_yr_grp['sal_real'] = salary/cpi #adjust salaries to 1985 levels for comparisons\n",
    "\n"
   ]
  },
  {
   "cell_type": "code",
   "execution_count": 890,
   "metadata": {
    "collapsed": false
   },
   "outputs": [
    {
     "data": {
      "text/html": [
       "<div>\n",
       "<table border=\"1\" class=\"dataframe\">\n",
       "  <thead>\n",
       "    <tr style=\"text-align: right;\">\n",
       "      <th></th>\n",
       "      <th>playerID</th>\n",
       "      <th>yearID</th>\n",
       "      <th>stint_x</th>\n",
       "      <th>teamID_x</th>\n",
       "      <th>lgID_x</th>\n",
       "      <th>G_x</th>\n",
       "      <th>AB_x</th>\n",
       "      <th>R_x</th>\n",
       "      <th>H_x</th>\n",
       "      <th>2B_x</th>\n",
       "      <th>...</th>\n",
       "      <th>IBB_y</th>\n",
       "      <th>HBP_y</th>\n",
       "      <th>SH_y</th>\n",
       "      <th>SF_y</th>\n",
       "      <th>GIDP_y</th>\n",
       "      <th>HR/AB_y</th>\n",
       "      <th>OPS_y</th>\n",
       "      <th>salary_y</th>\n",
       "      <th>CPI</th>\n",
       "      <th>sal_real</th>\n",
       "    </tr>\n",
       "  </thead>\n",
       "  <tbody>\n",
       "    <tr>\n",
       "      <th>0</th>\n",
       "      <td>almonbi01</td>\n",
       "      <td>1985</td>\n",
       "      <td>1</td>\n",
       "      <td>PIT</td>\n",
       "      <td>NL</td>\n",
       "      <td>88</td>\n",
       "      <td>244</td>\n",
       "      <td>33</td>\n",
       "      <td>66</td>\n",
       "      <td>17</td>\n",
       "      <td>...</td>\n",
       "      <td>4.559322</td>\n",
       "      <td>2.275424</td>\n",
       "      <td>2.961864</td>\n",
       "      <td>3.728814</td>\n",
       "      <td>10.576271</td>\n",
       "      <td>0.027472</td>\n",
       "      <td>0.757271</td>\n",
       "      <td>566013.025424</td>\n",
       "      <td>1</td>\n",
       "      <td>255000</td>\n",
       "    </tr>\n",
       "    <tr>\n",
       "      <th>1</th>\n",
       "      <td>armasto01</td>\n",
       "      <td>1985</td>\n",
       "      <td>1</td>\n",
       "      <td>BOS</td>\n",
       "      <td>AL</td>\n",
       "      <td>103</td>\n",
       "      <td>385</td>\n",
       "      <td>50</td>\n",
       "      <td>102</td>\n",
       "      <td>17</td>\n",
       "      <td>...</td>\n",
       "      <td>4.559322</td>\n",
       "      <td>2.275424</td>\n",
       "      <td>2.961864</td>\n",
       "      <td>3.728814</td>\n",
       "      <td>10.576271</td>\n",
       "      <td>0.027472</td>\n",
       "      <td>0.757271</td>\n",
       "      <td>566013.025424</td>\n",
       "      <td>1</td>\n",
       "      <td>915000</td>\n",
       "    </tr>\n",
       "    <tr>\n",
       "      <th>2</th>\n",
       "      <td>backmwa01</td>\n",
       "      <td>1985</td>\n",
       "      <td>1</td>\n",
       "      <td>NYN</td>\n",
       "      <td>NL</td>\n",
       "      <td>145</td>\n",
       "      <td>520</td>\n",
       "      <td>77</td>\n",
       "      <td>142</td>\n",
       "      <td>24</td>\n",
       "      <td>...</td>\n",
       "      <td>4.559322</td>\n",
       "      <td>2.275424</td>\n",
       "      <td>2.961864</td>\n",
       "      <td>3.728814</td>\n",
       "      <td>10.576271</td>\n",
       "      <td>0.027472</td>\n",
       "      <td>0.757271</td>\n",
       "      <td>566013.025424</td>\n",
       "      <td>1</td>\n",
       "      <td>200000</td>\n",
       "    </tr>\n",
       "    <tr>\n",
       "      <th>3</th>\n",
       "      <td>baineha01</td>\n",
       "      <td>1985</td>\n",
       "      <td>1</td>\n",
       "      <td>CHA</td>\n",
       "      <td>AL</td>\n",
       "      <td>160</td>\n",
       "      <td>640</td>\n",
       "      <td>86</td>\n",
       "      <td>198</td>\n",
       "      <td>29</td>\n",
       "      <td>...</td>\n",
       "      <td>4.559322</td>\n",
       "      <td>2.275424</td>\n",
       "      <td>2.961864</td>\n",
       "      <td>3.728814</td>\n",
       "      <td>10.576271</td>\n",
       "      <td>0.027472</td>\n",
       "      <td>0.757271</td>\n",
       "      <td>566013.025424</td>\n",
       "      <td>1</td>\n",
       "      <td>675000</td>\n",
       "    </tr>\n",
       "    <tr>\n",
       "      <th>4</th>\n",
       "      <td>bakerdu01</td>\n",
       "      <td>1985</td>\n",
       "      <td>1</td>\n",
       "      <td>OAK</td>\n",
       "      <td>AL</td>\n",
       "      <td>111</td>\n",
       "      <td>343</td>\n",
       "      <td>48</td>\n",
       "      <td>92</td>\n",
       "      <td>15</td>\n",
       "      <td>...</td>\n",
       "      <td>4.559322</td>\n",
       "      <td>2.275424</td>\n",
       "      <td>2.961864</td>\n",
       "      <td>3.728814</td>\n",
       "      <td>10.576271</td>\n",
       "      <td>0.027472</td>\n",
       "      <td>0.757271</td>\n",
       "      <td>566013.025424</td>\n",
       "      <td>1</td>\n",
       "      <td>575000</td>\n",
       "    </tr>\n",
       "  </tbody>\n",
       "</table>\n",
       "<p>5 rows × 50 columns</p>\n",
       "</div>"
      ],
      "text/plain": [
       "    playerID  yearID  stint_x teamID_x lgID_x  G_x  AB_x  R_x  H_x  2B_x  \\\n",
       "0  almonbi01    1985        1      PIT     NL   88   244   33   66    17   \n",
       "1  armasto01    1985        1      BOS     AL  103   385   50  102    17   \n",
       "2  backmwa01    1985        1      NYN     NL  145   520   77  142    24   \n",
       "3  baineha01    1985        1      CHA     AL  160   640   86  198    29   \n",
       "4  bakerdu01    1985        1      OAK     AL  111   343   48   92    15   \n",
       "\n",
       "     ...        IBB_y     HBP_y      SH_y      SF_y     GIDP_y   HR/AB_y  \\\n",
       "0    ...     4.559322  2.275424  2.961864  3.728814  10.576271  0.027472   \n",
       "1    ...     4.559322  2.275424  2.961864  3.728814  10.576271  0.027472   \n",
       "2    ...     4.559322  2.275424  2.961864  3.728814  10.576271  0.027472   \n",
       "3    ...     4.559322  2.275424  2.961864  3.728814  10.576271  0.027472   \n",
       "4    ...     4.559322  2.275424  2.961864  3.728814  10.576271  0.027472   \n",
       "\n",
       "      OPS_y       salary_y  CPI  sal_real  \n",
       "0  0.757271  566013.025424    1    255000  \n",
       "1  0.757271  566013.025424    1    915000  \n",
       "2  0.757271  566013.025424    1    200000  \n",
       "3  0.757271  566013.025424    1    675000  \n",
       "4  0.757271  566013.025424    1    575000  \n",
       "\n",
       "[5 rows x 50 columns]"
      ]
     },
     "execution_count": 890,
     "metadata": {},
     "output_type": "execute_result"
    }
   ],
   "source": [
    "#create df with player data from 1985 on, including yearly averages and salary data set\n",
    "#at 1985 levels for comparison purposes\n",
    "bat_sal_everyday_df = pd.DataFrame(bat_sal_everyday)\n",
    "bat_sal_everyday_df = bat_sal_everyday_df.merge(bat_sal_yr_grp,on=['yearID'],how='inner')\n",
    "bat_sal_everyday_df['sal_real']=bat_sal_everyday_df['salary_x']/bat_sal_everyday_df['CPI']\n",
    "\n",
    "bat_sal_everyday_df.head()"
   ]
  },
  {
   "cell_type": "code",
   "execution_count": 891,
   "metadata": {
    "collapsed": true
   },
   "outputs": [],
   "source": [
    "sal_real= bat_sal_everyday_df['sal_real']\n",
    "\n",
    "#again, add 1 to compensate for zeros\n",
    "ab = bat_sal_everyday_df['AB_x'] +1  #at bats; _p denotes player\n",
    "r = bat_sal_everyday_df['R_x'] +1 #runs\n",
    "h = bat_sal_everyday_df['H_x']+1 #hits\n",
    "hr = bat_sal_everyday_df['HR_x'] +1 #homeruns\n",
    "triples = bat_sal_everyday_df['3B_x']+1 #triples\n",
    "doubles = bat_sal_everyday_df['2B_x'] +1 #doubles\n",
    "rbi = bat_sal_everyday_df['RBI_x'] +1 #rbis\n",
    "sb = bat_sal_everyday_df['SB_x'] +1 #stolen bases\n",
    "bb = bat_sal_everyday_df['BB_x'] +1 #walks\n",
    "so = bat_sal_everyday_df['SO_x'] +1 #strikeouts\n",
    "ibb = bat_sal_everyday_df['IBB_x'] +1 #intentional walks\n",
    "hbp = bat_sal_everyday_df['HBP_x']+1 #hit by pitch\n",
    "sf = bat_sal_everyday_df['SF_x'] +1 #sacrifice flies\n",
    "singles = bat_sal_everyday_df['H_x'] - hr - triples - doubles+ 1 #singles\n",
    "ba = h/ab #batting average\n",
    "obp = (h + bb + hbp)/(ab + bb + hbp + sf) #on base percentage\n",
    "sp = (singles+(doubles*2)+(triples*3)+(hr*4))/ab #slugging percentage\n",
    "ops = bat_sal_everyday_df['OPS_x'] #on base plus slugging"
   ]
  },
  {
   "cell_type": "code",
   "execution_count": 892,
   "metadata": {
    "collapsed": false
   },
   "outputs": [
    {
     "name": "stdout",
     "output_type": "stream",
     "text": [
      "Salary at 1985 levels correlation with:\n",
      "homeruns 0.392302444022\n",
      "doubles 0.253468632045\n",
      "triples -0.0533849159051\n",
      "stolen bases 0.0311563264113\n",
      "walks 0.395470771227\n",
      "strike outs 0.14821905742\n",
      "batting average 0.205228938932\n",
      "on base percentage 0.313378344361\n",
      "slugging percentage 0.321458823111\n",
      "OPS 0.34647113923\n"
     ]
    }
   ],
   "source": [
    "print 'Salary at 1985 levels correlation with:'\n",
    "print 'homeruns', correlation(sal_real,hr)\n",
    "print 'doubles', correlation(sal_real,doubles)\n",
    "print 'triples', correlation(sal_real,triples)\n",
    "print 'stolen bases', correlation(sal_real,sb)\n",
    "print 'walks', correlation(sal_real,bb)\n",
    "print 'strike outs', correlation(sal_real,so)\n",
    "print 'batting average', correlation(sal_real,ba)\n",
    "print 'on base percentage', correlation(sal_real,obp)\n",
    "print 'slugging percentage', correlation(sal_real,sp)\n",
    "print 'OPS', correlation(sal_real,ops)\n",
    "\n",
    "\n",
    "salary_correlates = pd.Series([correlation(sal_real,hr),correlation(sal_real,doubles),correlation(sal_real,triples),correlation(sal_real,sb),correlation(sal_real,bb),correlation(sal_real,so),correlation(sal_real,ba),correlation(sal_real,obp),correlation(sal_real,sp),correlation(sal_real,ops)], index = ['hr','2b','3b','sb','bb','so','ba','obp','sp','ops'])\n"
   ]
  },
  {
   "cell_type": "code",
   "execution_count": 893,
   "metadata": {
    "collapsed": false
   },
   "outputs": [
    {
     "name": "stdout",
     "output_type": "stream",
     "text": [
      "Populating the interactive namespace from numpy and matplotlib\n"
     ]
    },
    {
     "data": {
      "text/plain": [
       "<matplotlib.axes._subplots.AxesSubplot at 0x15bbd2350>"
      ]
     },
     "execution_count": 893,
     "metadata": {},
     "output_type": "execute_result"
    },
    {
     "data": {
      "image/png": "[encoded data removed]",
      "text/plain": [
       "<matplotlib.figure.Figure at 0x14ecbba50>"
      ]
     },
     "metadata": {},
     "output_type": "display_data"
    }
   ],
   "source": [
    "%pylab inline\n",
    "import matplotlib.pyplot as plt\n",
    "import seaborn as sns\n",
    "correlates = pd.DataFrame(dict(salary_correlates=salary_correlates, runs_correlates=runs_correlates))\n",
    "correlates.plot.bar(title='Correlates 1985-2015')"
   ]
  },
  {
   "cell_type": "markdown",
   "metadata": {},
   "source": [
    "Looking at the data above, it looks like teams are doing a pretty good job of paying for the right batter attributes.  However, OPS has the highest correlation with runs, but has the third highest correlation with salaries.  Homeruns and walks have the highest correlation with salaries, and are also highly correlated with runs.  It seems that during the time period, teams may have been valuing homeruns and walks highest - whereas, all else being equal, it would make more sense to value OPS higher.  It is important to note that over this time period, teams began applying data science to roster formation.  It is very possible that the data from a more recent time period may show teams valuing OPS highest.  I'll investigate that next."
   ]
  },
  {
   "cell_type": "code",
   "execution_count": 894,
   "metadata": {
    "collapsed": false
   },
   "outputs": [],
   "source": [
    "#create columns identifying players whose salary and ops,salary and hr, salary and bb \n",
    "#are above average.  If teams have began paying more for these var\n",
    "bat_sal_everyday_df['sal&ops'] =(bat_sal_everyday_df['salary_x'] >= bat_sal_everyday_df['salary_y']) & (bat_sal_everyday_df['OPS_x'] >= bat_sal_everyday_df['OPS_y']) \n",
    "bat_sal_everyday_df['sal&hr'] = (bat_sal_everyday_df['salary_x'] >= bat_sal_everyday_df['salary_y']) & (bat_sal_everyday_df['HR_x'] >= bat_sal_everyday_df['HR_y'])\n",
    "bat_sal_everyday_df['sal&bb'] = (bat_sal_everyday_df['salary_x'] >= bat_sal_everyday_df['salary_y']) & (bat_sal_everyday_df['BB_x'] >= bat_sal_everyday_df['BB_y'])\n",
    "\n",
    "#group by year\n",
    "yearly_bat_sal = bat_sal_everyday_df.groupby('yearID').sum()\n",
    "\n",
    "yearly_comp_df = pd.DataFrame(dict(sal_and_ops=yearly_bat_sal['sal&ops'],sal_and_hr=yearly_bat_sal['sal&hr'],sal_and_bb=yearly_bat_sal['sal&bb']))\n"
   ]
  },
  {
   "cell_type": "code",
   "execution_count": 895,
   "metadata": {
    "collapsed": false
   },
   "outputs": [
    {
     "data": {
      "text/plain": [
       "<matplotlib.axes._subplots.AxesSubplot at 0x153c60690>"
      ]
     },
     "execution_count": 895,
     "metadata": {},
     "output_type": "execute_result"
    },
    {
     "data": {
      "image/png": "[encoded data removed]",
      "text/plain": [
       "<matplotlib.figure.Figure at 0x1570f7790>"
      ]
     },
     "metadata": {},
     "output_type": "display_data"
    }
   ],
   "source": [
    "#examine trend over time\n",
    "yearly_comp_df.plot(title='# of players whose salary and (factor) above mean' )"
   ]
  },
  {
   "cell_type": "markdown",
   "metadata": {},
   "source": [
    "It appears that there is no significant increase in the number of players who have both above average salaries and an above average OPS, from 1985 to 2015. I will check to see if there is any trend in the number of players who are at least 1 standard deviation above the mean in the above categories categories. There was a pretty large jump in the middle for all three categories.  This increase could be incidental, but it looks like something may be going on. It does look like this rise occured during the peak of steroids in baseball.  This may be something else to evaluate later."
   ]
  },
  {
   "cell_type": "markdown",
   "metadata": {},
   "source": [
    "Try looking at 1 standard dev above for both sal and other factors.  Use apply(standardize(df))."
   ]
  },
  {
   "cell_type": "code",
   "execution_count": 896,
   "metadata": {
    "collapsed": false
   },
   "outputs": [],
   "source": [
    "#create columns identifying players whose real salary and ops,real salary and hr, real salary and bb \n",
    "#are both 1 standard deviation above the mean.  If teams have began paying more for these var\n",
    "bat_sal_everyday_df['sal&ops'] =(standardize(bat_sal_everyday_df['sal_real']) >= 1) & (standardize(bat_sal_everyday_df['OPS_x']) >= 1) \n",
    "bat_sal_everyday_df['sal&hr'] = (standardize(bat_sal_everyday_df['sal_real']) >= 1) & (standardize(bat_sal_everyday_df['HR_x']) >= 1)\n",
    "bat_sal_everyday_df['sal&bb'] = (standardize(bat_sal_everyday_df['sal_real']) >= 1) & (standardize(bat_sal_everyday_df['BB_x']) >= 1)\n",
    "\n",
    "#group by year\n",
    "yearly_bat_sal = bat_sal_everyday_df.groupby('yearID').sum()\n",
    "\n",
    "yearly_comp_one_stdev_df = pd.DataFrame(dict(sal_and_ops=yearly_bat_sal['sal&ops'],sal_and_hr=yearly_bat_sal['sal&hr'],sal_and_bb=yearly_bat_sal['sal&bb']))"
   ]
  },
  {
   "cell_type": "code",
   "execution_count": 897,
   "metadata": {
    "collapsed": false
   },
   "outputs": [
    {
     "data": {
      "text/plain": [
       "<matplotlib.axes._subplots.AxesSubplot at 0x15bd5b910>"
      ]
     },
     "execution_count": 897,
     "metadata": {},
     "output_type": "execute_result"
    },
    {
     "data": {
      "image/png": "[encoded data removed]",
      "text/plain": [
       "<matplotlib.figure.Figure at 0x15b8aded0>"
      ]
     },
     "metadata": {},
     "output_type": "display_data"
    }
   ],
   "source": [
    "#examine trend over time\n",
    "yearly_comp_one_stdev_df.plot(title='# of players whose salary and (factor) + 1 stdev above mean')"
   ]
  },
  {
   "cell_type": "markdown",
   "metadata": {},
   "source": [
    "It doesn't appear that there is any significant difference in the relationship between OPS and salary now (2015) and 1985.  "
   ]
  },
  {
   "cell_type": "markdown",
   "metadata": {},
   "source": [
    "I am still curious what caused the rise and decline in the 1990s and 2000s.  I suspect that steroids may be a contributing factor. I'm going to look at homerun data throught baseball history to see if anything sticks out."
   ]
  },
  {
   "cell_type": "code",
   "execution_count": 898,
   "metadata": {
    "collapsed": false
   },
   "outputs": [],
   "source": [
    "batting_all_df['HR/AB']=batting_all_df['HR']/batting_all_df['AB']\n",
    "batting_yearly_df = batting_all_df.groupby('yearID').mean()"
   ]
  },
  {
   "cell_type": "code",
   "execution_count": 899,
   "metadata": {
    "collapsed": false
   },
   "outputs": [
    {
     "data": {
      "text/plain": [
       "<matplotlib.axes._subplots.AxesSubplot at 0x15c60ea10>"
      ]
     },
     "execution_count": 899,
     "metadata": {},
     "output_type": "execute_result"
    },
    {
     "data": {
      "image/png": "[encoded data removed]",
      "text/plain": [
       "<matplotlib.figure.Figure at 0x15c61ff90>"
      ]
     },
     "metadata": {},
     "output_type": "display_data"
    }
   ],
   "source": [
    "batting_yearly_df['HR/AB'].plot(title='HRs as % of ABs')"
   ]
  },
  {
   "cell_type": "markdown",
   "metadata": {},
   "source": [
    "It looks like homeruns per at bat began to plateau around 1960, then rose sharply around 1990, before falling in the mid 2000s.  The MLB first implemented a steroid testing policy in 2004, so this timeline would make since.  Reference on steroid policy timeline: http://www.usatoday.com/story/sports/mlb/2014/03/28/a-timeline-of-mlbs-drug-testing-rules/7024351/"
   ]
  },
  {
   "cell_type": "markdown",
   "metadata": {},
   "source": [
    "Let's conduct an independent t-test to see if there is any statistically significant difference between homeruns per at bat in 2000 and 2015.  The test will be two-tailed and will be done at the 95% confidence level.  H0: no difference in hr/ab between 2000 and 2015; \n",
    "HA: difference in hr/ab between 2000 and 2015."
   ]
  },
  {
   "cell_type": "code",
   "execution_count": 900,
   "metadata": {
    "collapsed": true
   },
   "outputs": [],
   "source": [
    "#slice the df to show just data from each of the two years\n",
    "batting_2000_df = batting_all_df[batting_all_df['yearID']==2000]\n",
    "batting_2015_df = batting_all_df[batting_all_df['yearID']==2015]"
   ]
  },
  {
   "cell_type": "code",
   "execution_count": 901,
   "metadata": {
    "collapsed": false
   },
   "outputs": [],
   "source": [
    "#look only at data for players who had at least 200 at bats\n",
    "#so data is mostly comprised of everyday players\n",
    "batting_2000_df = batting_2000_df[batting_2000_df['AB']>=200]\n",
    "batting_2015_df = batting_2015_df[batting_2015_df['AB']>=200]"
   ]
  },
  {
   "cell_type": "code",
   "execution_count": 902,
   "metadata": {
    "collapsed": false
   },
   "outputs": [],
   "source": [
    "def t_stat(mean1,mean2,se):\n",
    "    return (mean1-mean2)/se"
   ]
  },
  {
   "cell_type": "code",
   "execution_count": 903,
   "metadata": {
    "collapsed": false
   },
   "outputs": [],
   "source": [
    "mean_hr_ab_2000 = batting_2000_df['HR/AB'].mean()\n",
    "mean_hr_ab_2015 = batting_2015_df['HR/AB'].mean()\n",
    "se_hr_ab_2000_2015 = sqrt((batting_2000_df['HR/AB'].var()/len(batting_2000_df['HR/AB']))+(batting_2015_df['HR/AB'].var()/len(batting_2015_df['HR/AB'])))"
   ]
  },
  {
   "cell_type": "code",
   "execution_count": 904,
   "metadata": {
    "collapsed": false
   },
   "outputs": [
    {
     "data": {
      "text/plain": [
       "3.2295230881826504"
      ]
     },
     "execution_count": 904,
     "metadata": {},
     "output_type": "execute_result"
    }
   ],
   "source": [
    "t_stat(mean_hr_ab_1995,mean_hr_ab_2015,se_hr_ab_1995_2015)"
   ]
  },
  {
   "cell_type": "code",
   "execution_count": 905,
   "metadata": {
    "collapsed": false
   },
   "outputs": [
    {
     "data": {
      "text/plain": [
       "638"
      ]
     },
     "execution_count": 905,
     "metadata": {},
     "output_type": "execute_result"
    }
   ],
   "source": [
    "df = len(batting_2000_df['HR/AB'])+len(batting_2015_df['HR/AB'])-2\n",
    "df"
   ]
  },
  {
   "cell_type": "markdown",
   "metadata": {},
   "source": [
    "I entered the t stat and df above into this calculator: http://www.graphpad.com/quickcalcs/pValue2/\n",
    "and returned a p-value of 0.0013.  This indicates a statistically significant difference in hr/ab between the two years.  This doesn't necessarily mean that steroids caused the difference.  Instead, it indicates that there is only a 0.13% probability that this was merely caused by chance."
   ]
  },
  {
   "cell_type": "code",
   "execution_count": null,
   "metadata": {
    "collapsed": true
   },
   "outputs": [],
   "source": []
  }
 ],
 "metadata": {
  "kernelspec": {
   "display_name": "Python 2",
   "language": "python",
   "name": "python2"
  },
  "language_info": {
   "codemirror_mode": {
    "name": "ipython",
    "version": 2
   },
   "file_extension": ".py",
   "mimetype": "text/x-python",
   "name": "python",
   "nbconvert_exporter": "python",
   "pygments_lexer": "ipython2",
   "version": "2.7.11"
  }
 },
 "nbformat": 4,
 "nbformat_minor": 0
}
